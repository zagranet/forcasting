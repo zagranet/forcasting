{
 "cells": [
  {
   "cell_type": "markdown",
   "metadata": {},
   "source": [
    "Линейная регрессия"
   ]
  },
  {
   "cell_type": "markdown",
   "metadata": {},
   "source": [
    "Зависимость в среднем изменений результативного признака y от факторных признаков x1,x2,...,xn, свертка которых осуществляется на основе операций сложения или вычитания называется моделью линейной регрессии."
   ]
  },
  {
   "cell_type": "markdown",
   "metadata": {},
   "source": [
    "Оценка коэффициентов регрессии может осуществляться разными способами. Коэффициенты линейной регрессии оценивают методом наименьших квадратов, суть которого состоит в том, что находятся такие параметры модели, при которых минимизируется сумма квадратов отклонений фактических и расчетных значений результативного признака (S-критерий)."
   ]
  },
  {
   "cell_type": "markdown",
   "metadata": {},
   "source": [
    "Рассмотрим следующие варианты линейной регрессии: парная, множественная, полиномиальная регрессия. Затем добавим регуляризацию для предотвращения переобучения модели. В результате получим гребневую и лассо регресию."
   ]
  },
  {
   "cell_type": "markdown",
   "metadata": {},
   "source": [
    "1. Парная регрессия"
   ]
  },
  {
   "cell_type": "markdown",
   "metadata": {},
   "source": [
    "Математическое описание зависимости в среднем изменений переменной y (результативного признака) от переменной x (факторного признака) называется моделью (уравнением) парной регрессии. Чаще всего используется линейное уравнение парной регрессии:"
   ]
  },
  {
   "cell_type": "markdown",
   "metadata": {},
   "source": [
    "y=ax+b"
   ]
  },
  {
   "cell_type": "markdown",
   "metadata": {},
   "source": [
    "* где a - коэффициент регрессии, который показывает, на сколько единиц в среднем изменится результативный признак при изменении факторного признака на одну единицу его измерения.\n",
    "* b - свободный член уравнения регрессии."
   ]
  },
  {
   "cell_type": "markdown",
   "metadata": {},
   "source": [
    "Графически линейное уравнение парной регрессии представляется прямой линией в координатной плоскости x, y."
   ]
  },
  {
   "cell_type": "markdown",
   "metadata": {},
   "source": [
    "Импортируем библиотеки, которые нам понадобятся для построения модели линейной регрессии."
   ]
  },
  {
   "cell_type": "code",
   "execution_count": 1,
   "metadata": {},
   "outputs": [],
   "source": [
    "%matplotlib inline\n",
    "import matplotlib.pyplot as plt\n",
    "import seaborn as sns; sns.set()\n",
    "import numpy as np"
   ]
  },
  {
   "cell_type": "markdown",
   "metadata": {},
   "source": [
    "Сгенерируем 50 случайных точек в координатной плоскости x, y, которые могут быть аппроксимированы линейной моделью парной регрессии со следующими истинными значениями коэффициентов: a=2, b=-5."
   ]
  },
  {
   "cell_type": "code",
   "execution_count": 2,
   "metadata": {},
   "outputs": [
    {
     "data": {
      "image/png": "[encoded data removed]",
      "text/plain": [
       "<Figure size 432x288 with 1 Axes>"
      ]
     },
     "metadata": {
      "needs_background": "light"
     },
     "output_type": "display_data"
    }
   ],
   "source": [
    "rng = np.random.RandomState(1)\n",
    "x = 10 * rng.rand(50)\n",
    "y = 2 * x - 5 + rng.randn(50)\n",
    "plt.scatter(x, y);"
   ]
  },
  {
   "cell_type": "markdown",
   "metadata": {},
   "source": [
    "Воспользуемся методом LinearRegression из библиотеки Scikit-Learn для подбора параметров a и b и визуализации полученной модели."
   ]
  },
  {
   "cell_type": "code",
   "execution_count": 3,
   "metadata": {},
   "outputs": [
    {
     "data": {
      "image/png": "[encoded data removed]",
      "text/plain": [
       "<Figure size 432x288 with 1 Axes>"
      ]
     },
     "metadata": {
      "needs_background": "light"
     },
     "output_type": "display_data"
    }
   ],
   "source": [
    "from sklearn.linear_model import LinearRegression\n",
    "model = LinearRegression(fit_intercept=True)\n",
    "\n",
    "model.fit(x[:, np.newaxis], y)\n",
    "\n",
    "xfit = np.linspace(0, 10, 1000)\n",
    "yfit = model.predict(xfit[:, np.newaxis])\n",
    "\n",
    "plt.scatter(x, y)\n",
    "plt.plot(xfit, yfit);"
   ]
  },
  {
   "cell_type": "markdown",
   "metadata": {},
   "source": [
    "Выведим на экран коэффициент (coef_) и свободный член (intercept_) регрессии."
   ]
  },
  {
   "cell_type": "code",
   "execution_count": 4,
   "metadata": {},
   "outputs": [
    {
     "name": "stdout",
     "output_type": "stream",
     "text": [
      "Коэффициент регрессии:     2.027208810360695\n",
      "Свободный член регрессии: -4.998577085553202\n"
     ]
    }
   ],
   "source": [
    "print(\"Коэффициент регрессии:    \", model.coef_[0])\n",
    "print(\"Свободный член регрессии:\", model.intercept_)"
   ]
  },
  {
   "cell_type": "markdown",
   "metadata": {},
   "source": [
    "Видим, что результаты близки к истинным значениям параметров, которые мы задавали (a=2, b=-5)."
   ]
  },
  {
   "cell_type": "markdown",
   "metadata": {},
   "source": [
    "2. Множественная регрессия"
   ]
  },
  {
   "cell_type": "markdown",
   "metadata": {},
   "source": [
    "Математически множественная линейная регрессия может быть представлена в следующем виде: y=a0+a1x1+a2x2+⋯"
   ]
  },
  {
   "cell_type": "markdown",
   "metadata": {},
   "source": [
    "Реализация данной модели в Python может быть осуществлена с помощью того же метода LinearRegression из библиотеки Scikit-Learn."
   ]
  },
  {
   "cell_type": "markdown",
   "metadata": {},
   "source": [
    "Графически модели множественной регрессии соответствует плоскость в n-мерном пространстве."
   ]
  },
  {
   "cell_type": "markdown",
   "metadata": {},
   "source": [
    "Сгенерируем 100 случайных точек в координатной плоскости x, y, z которые могут быть аппроксимированы линейной моделью множественной регрессии со следующими истинными коэффициентами: a0=0.5, a1=1.5, a2=-2, a3=1."
   ]
  },
  {
   "cell_type": "code",
   "execution_count": 5,
   "metadata": {},
   "outputs": [
    {
     "name": "stdout",
     "output_type": "stream",
     "text": [
      "0.6562333465768289\n",
      "[ 1.48159542 -1.97622428  0.97258042]\n"
     ]
    }
   ],
   "source": [
    "rng = np.random.RandomState(1)\n",
    "X = 10 * rng.rand(100, 3)\n",
    "y = 0.5 + np.dot(X, [1.5, -2., 1.]) + rng.randn(100)\n",
    "\n",
    "model.fit(X, y)\n",
    "print(model.intercept_)\n",
    "print(model.coef_)"
   ]
  },
  {
   "cell_type": "markdown",
   "metadata": {},
   "source": [
    "3. Полиномиальная регрессия"
   ]
  },
  {
   "cell_type": "markdown",
   "metadata": {},
   "source": [
    "В уавнении множественной линейной регрессии y=a0+a1x1+a2x2+a3x3+⋯ переменная xn может быть представлена любой функцией fn преобразования исходных данных x: xn=fn(x). "
   ]
  },
  {
   "cell_type": "markdown",
   "metadata": {},
   "source": [
    "В случае fn(x)=x^n получаем полиномиальную регрессию: y=a0+a1x+a2x^2+a3x^3+⋯ "
   ]
  },
  {
   "cell_type": "markdown",
   "metadata": {},
   "source": [
    "Из-за важности полиномиальной регрессии в библиотеку Scikit-Learn встроен метод PolynomialFeatures, который позволяет по исходному вектору x получить вектора x^2, x^3, ..., x^n"
   ]
  },
  {
   "cell_type": "code",
   "execution_count": 6,
   "metadata": {},
   "outputs": [
    {
     "data": {
      "text/plain": [
       "array([[ 2.,  4.,  8.],\n",
       "       [ 3.,  9., 27.],\n",
       "       [ 4., 16., 64.]])"
      ]
     },
     "execution_count": 6,
     "metadata": {},
     "output_type": "execute_result"
    }
   ],
   "source": [
    "from sklearn.preprocessing import PolynomialFeatures\n",
    "x = np.array([2, 3, 4])\n",
    "poly = PolynomialFeatures(3, include_bias=False)\n",
    "poly.fit_transform(x[:, None])"
   ]
  },
  {
   "cell_type": "markdown",
   "metadata": {},
   "source": [
    "Видим, что метод PolynomialFeatures преобразовал исходный одномерный вектор x в трехмерное пространство признаков x, x^2, x^3 путем возведения во 2-ую и 3-ю степень соответствующих значений исходного вектора. По полученным данным можно построить полиномиальную регрессию путем применения к ним метода LinearRegression из библиотеки Scikit-Learn."
   ]
  },
  {
   "cell_type": "markdown",
   "metadata": {},
   "source": [
    "Самый простой способ соединить указанные выше операции - использовать метод make_pipeline. Построим таким образом полиномиальную модель 7-го порядка:"
   ]
  },
  {
   "cell_type": "code",
   "execution_count": 7,
   "metadata": {},
   "outputs": [],
   "source": [
    "from sklearn.pipeline import make_pipeline\n",
    "poly_model = make_pipeline(PolynomialFeatures(7),\n",
    "                           LinearRegression())"
   ]
  },
  {
   "cell_type": "markdown",
   "metadata": {},
   "source": [
    "Используя указанные методы, можно построить зашумленную синусоиду:"
   ]
  },
  {
   "cell_type": "code",
   "execution_count": 8,
   "metadata": {},
   "outputs": [
    {
     "data": {
      "image/png": "[encoded data removed]",
      "text/plain": [
       "<Figure size 432x288 with 1 Axes>"
      ]
     },
     "metadata": {
      "needs_background": "light"
     },
     "output_type": "display_data"
    }
   ],
   "source": [
    "rng = np.random.RandomState(1)\n",
    "x = 10 * rng.rand(50)\n",
    "y = np.sin(x) + 0.1 * rng.randn(50)\n",
    "\n",
    "poly_model.fit(x[:, np.newaxis], y)\n",
    "yfit = poly_model.predict(xfit[:, np.newaxis])\n",
    "\n",
    "plt.scatter(x, y)\n",
    "plt.plot(xfit, yfit);"
   ]
  },
  {
   "cell_type": "markdown",
   "metadata": {},
   "source": [
    "Видим, что наша линейная модель, благодаря использованию полинома 7-го порядка, обеспечивает прекрасное приближение к нелинейным данным."
   ]
  },
  {
   "cell_type": "markdown",
   "metadata": {},
   "source": [
    "Сгенерированные данные можно также смоделировать с помощью набора гаусовских кривых."
   ]
  },
  {
   "cell_type": "markdown",
   "metadata": {},
   "source": [
    "Регуляризация"
   ]
  },
  {
   "cell_type": "markdown",
   "metadata": {},
   "source": [
    "Если модель может может давать точные прогнозы на ранее не встречавшихся данных, то она обладает хорошей обобщающей способностью."
   ]
  },
  {
   "cell_type": "markdown",
   "metadata": {},
   "source": [
    "Мы имеем дело с переобучением, когда используем очень сложную модель, которая слишком точно подстраивается под особенности обучающего набора данных. В результате, модель превосходно работает на обучающем наборе, но не способна правильно обобщить результат на новые данные."
   ]
  },
  {
   "cell_type": "markdown",
   "metadata": {},
   "source": [
    "С другой стороны, выбор слишком простой модели, которая не охватывает все многообразие и изменчивость данных, называется недообучением."
   ]
  },
  {
   "cell_type": "markdown",
   "metadata": {},
   "source": [
    "Чтобы не допустить переобучения модели, проводят ее регуляризацию путем сжатия коэффициентов модели до близких к нулю значений, чтобы каждый признак имел как можно меньшее влияние на результат, и в то же время он должен по-прежнему обладать хорошей прогнозной силой."
   ]
  },
  {
   "cell_type": "markdown",
   "metadata": {},
   "source": [
    "4. Гребневая регрессия (Ridge regression, L2 Regularization)"
   ]
  },
  {
   "cell_type": "markdown",
   "metadata": {},
   "source": [
    "Гребневая регрессия является линейной моделью регрессии с регуляризацией, известной как L2-регуляризация."
   ]
  },
  {
   "cell_type": "markdown",
   "metadata": {},
   "source": [
    "Регуляризация меняет критерий качества, а именно к S-критерию добаляется штраф P, который рассчитывается как произведение суммы квадратов найденных с помощью МНК параметров модели (без свободного члена) на параметр α, который контролирует силу штрафа."
   ]
  },
  {
   "cell_type": "markdown",
   "metadata": {},
   "source": [
    "Параметр α подбирают так, чтобы минимизировать ошибку на выборке валидации."
   ]
  },
  {
   "cell_type": "markdown",
   "metadata": {},
   "source": [
    "Таким образом, исходная выборка делится на 3 подвыборки: обучающая (оценка параметров модели), валидации (оценка внешних параметров, типа α), тестовая (проверка точности модели)."
   ]
  },
  {
   "cell_type": "markdown",
   "metadata": {},
   "source": [
    "Модель гребневой регрессии можно построить с помощью метода Ridge из библиотеки Scikit-Learn."
   ]
  },
  {
   "cell_type": "code",
   "execution_count": 9,
   "metadata": {},
   "outputs": [],
   "source": [
    "def basis_plot(model, title=None):\n",
    "    fig, ax = plt.subplots()\n",
    "    model.fit(x[:, np.newaxis], y)\n",
    "    ax.scatter(x, y)\n",
    "    ax.plot(xfit, model.predict(xfit[:, np.newaxis]))\n",
    "    ax.set(xlabel='x', ylabel='y', ylim=(-1.5, 1.5))\n",
    "    \n",
    "    if title:\n",
    "        ax.set_title(title)"
   ]
  },
  {
   "cell_type": "code",
   "execution_count": 10,
   "metadata": {},
   "outputs": [
    {
     "data": {
      "image/png": "[encoded data removed]",
      "text/plain": [
       "<Figure size 432x288 with 1 Axes>"
      ]
     },
     "metadata": {
      "needs_background": "light"
     },
     "output_type": "display_data"
    }
   ],
   "source": [
    "from sklearn.linear_model import Ridge\n",
    "model = make_pipeline(PolynomialFeatures(7), Ridge(alpha=0.1))\n",
    "basis_plot(model, title='Гребневая регрессия')"
   ]
  },
  {
   "cell_type": "markdown",
   "metadata": {},
   "source": [
    "Параметр α контролирует сложность модели. В пределе α→0 мы получаем стандартную линейную регрессию. В пределе α→∞ все индивидуальные проявления модели будут подавлены. Достоинство гребневой регрессии состоит в том, что затраты на ее построение не намного выше, чем на построение линейной регрессии."
   ]
  },
  {
   "cell_type": "markdown",
   "metadata": {},
   "source": [
    "5. Лассо-регрессия (Lasso regression, L1 regularization)"
   ]
  },
  {
   "cell_type": "markdown",
   "metadata": {},
   "source": [
    "Лассо-регрессия является линейной моделью регрессии с регуляризацией, известной как L1-регуляризация."
   ]
  },
  {
   "cell_type": "markdown",
   "metadata": {},
   "source": [
    "Как и в случае с гребневой регрессией, L1-регуляризация меняет критерий качества, но делает это иначе, а именно к S-критерию добаляется штраф P, который рассчитывается как произведение суммы модулей найденных с помощью МНК параметров модели (без свободного члена) на параметр α, который контролирует силу штрафа. "
   ]
  },
  {
   "cell_type": "markdown",
   "metadata": {},
   "source": [
    "Результат L1-регуляризации заключается в том, что коэффициенты модели сжимаются до близких к нулю значений, однако, некоторые коэффициенты становятся равными точно нулю."
   ]
  },
  {
   "cell_type": "markdown",
   "metadata": {},
   "source": [
    "Фактически получается, что некоторые признаки полностью исключаются из модели. Это можно рассматривать, как один из видов автоматического отбора признаков. В результате, выявляются наиболее важные признаки модели, упрощается ее интерпретация."
   ]
  },
  {
   "cell_type": "code",
   "execution_count": 11,
   "metadata": {},
   "outputs": [
    {
     "name": "stderr",
     "output_type": "stream",
     "text": [
      "C:\\Users\\HP\\Anaconda3\\lib\\site-packages\\sklearn\\linear_model\\coordinate_descent.py:475: ConvergenceWarning: Objective did not converge. You might want to increase the number of iterations. Duality gap: 3.82619138244717, tolerance: 0.002065280097246271\n",
      "  positive)\n"
     ]
    },
    {
     "data": {
      "image/png": "[encoded data removed]",
      "text/plain": [
       "<Figure size 432x288 with 1 Axes>"
      ]
     },
     "metadata": {
      "needs_background": "light"
     },
     "output_type": "display_data"
    }
   ],
   "source": [
    "from sklearn.linear_model import Lasso\n",
    "model = make_pipeline(PolynomialFeatures(7), Lasso(alpha=0.001))\n",
    "basis_plot(model, title='Лассо-регрессия')"
   ]
  },
  {
   "cell_type": "markdown",
   "metadata": {},
   "source": [
    "Как и в случае гребневой регрессии, параметр α, который регулирует силу штрафа, подбирают так, чтобы минимизировать ошибку на выборке валидации."
   ]
  },
  {
   "cell_type": "markdown",
   "metadata": {},
   "source": [
    "Пример: прогнозирование велосипедного трафика"
   ]
  },
  {
   "cell_type": "markdown",
   "metadata": {},
   "source": [
    "В качестве примера посмотрим, cможем ли мы спрогнозировать количество велосипедных поездок по мосту Фримонт в Сиэтле на основе погоды, сезона и других факторов."
   ]
  },
  {
   "cell_type": "markdown",
   "metadata": {},
   "source": [
    "Начнем с загрузки двух наборов данных, разбитых по датам:"
   ]
  },
  {
   "cell_type": "code",
   "execution_count": 12,
   "metadata": {},
   "outputs": [],
   "source": [
    "# !curl -o FremontBridge.csv https://data.seattle.gov/api/views/65db-xm6k/rows.csv?accessType=DOWNLOAD"
   ]
  },
  {
   "cell_type": "code",
   "execution_count": 2,
   "metadata": {},
   "outputs": [],
   "source": [
    "import pandas as pd\n",
    "counts = pd.read_csv('data/FremontBridge.csv', index_col='Date', parse_dates=True)\n",
    "weather = pd.read_csv('data/BicycleWeather.csv', index_col='DATE', parse_dates=True)"
   ]
  },
  {
   "cell_type": "code",
   "execution_count": null,
   "metadata": {},
   "outputs": [],
   "source": []
  }
 ],
 "metadata": {
  "kernelspec": {
   "display_name": "Python 3",
   "language": "python",
   "name": "python3"
  },
  "language_info": {
   "codemirror_mode": {
    "name": "ipython",
    "version": 3
   },
   "file_extension": ".py",
   "mimetype": "text/x-python",
   "name": "python",
   "nbconvert_exporter": "python",
   "pygments_lexer": "ipython3",
   "version": "3.7.4"
  }
 },
 "nbformat": 4,
 "nbformat_minor": 4
}
